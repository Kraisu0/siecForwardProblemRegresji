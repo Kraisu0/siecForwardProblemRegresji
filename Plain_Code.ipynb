{
 "cells": [
  {
   "cell_type": "code",
   "execution_count": null,
   "id": "43c8fac4-4708-4588-91af-e3859a3a8153",
   "metadata": {},
   "outputs": [],
   "source": [
    "# Instalujemy biblioteke aby połączyć sklearn i pytorch\n",
    "!pip install skorch"
   ]
  },
  {
   "cell_type": "code",
   "execution_count": null,
   "id": "5aa407fb-438f-4652-925c-d3b34474ce7e",
   "metadata": {},
   "outputs": [],
   "source": [
    "import pandas as pd\n",
    "import numpy as np\n",
    "import matplotlib.pyplot as plt\n",
    "import seaborn as sns\n",
    "from sklearn.model_selection import train_test_split\n",
    "from sklearn.preprocessing import StandardScaler\n",
    "from sklearn.inspection import permutation_importance\n",
    "from sklearn.metrics import confusion_matrix, roc_curve, auc, classification_report, ConfusionMatrixDisplay\n",
    "import torch\n",
    "import torch.nn as nn\n",
    "import torch.optim as optim\n",
    "from skorch import NeuralNetClassifier\n",
    "from sklearn.model_selection import GridSearchCV\n",
    "from sklearn.preprocessing import MinMaxScaler\n",
    "import warnings\n",
    "\n",
    "warnings.simplefilter(action='ignore', category=FutureWarning)"
   ]
  },
  {
   "cell_type": "code",
   "execution_count": null,
   "id": "3c8d1cfe-130d-4d73-ac62-e251a850eda2",
   "metadata": {},
   "outputs": [],
   "source": [
    "# Ładowaneie danych\n",
    "df = pd.read_csv('./winequality-red.csv')"
   ]
  },
  {
   "cell_type": "code",
   "execution_count": null,
   "id": "29d9fe07-48b3-48d0-8c54-53852d5463c7",
   "metadata": {},
   "outputs": [],
   "source": [
    "# Odzielamy target i funkcje\n",
    "target = pd.DataFrame(df['quality'])\n",
    "df.drop('quality', axis=1, inplace=True)"
   ]
  },
  {
   "cell_type": "code",
   "execution_count": null,
   "id": "e0807cdf-463b-4d53-b069-cce21cbf7c67",
   "metadata": {},
   "outputs": [],
   "source": [
    "# Normalizacja cech\n",
    "scaler = MinMaxScaler()\n",
    "X_normalized = scaler.fit_transform(target)"
   ]
  },
  {
   "cell_type": "code",
   "execution_count": null,
   "id": "5c6351e4-d6d0-4d3a-b9d4-2fff97ab9c88",
   "metadata": {},
   "outputs": [],
   "source": [
    "# Sprawdzamy pierwsze wiersze\n",
    "print(df.head())\n",
    "print(target.head())"
   ]
  },
  {
   "cell_type": "code",
   "execution_count": null,
   "id": "70d93898-aae1-4410-96ec-f8fc7695dd21",
   "metadata": {},
   "outputs": [],
   "source": [
    "# Przygotowanie do hisotgramu\n",
    "df_hist = df.copy()\n",
    "df_hist['quality'] = target\n",
    "\n",
    "# Tworzenie subplots - ustalanie liczby wierszy i kolumn na podstawie liczby kolumn w DataFrame\n",
    "num_features = df_hist.shape[1]\n",
    "nrows = (num_features + 2) // 3  # Zakładamy 3 kolumny na wiersz\n",
    "\n",
    "fig, ax = plt.subplots(nrows=nrows, ncols=3, figsize=(20, 15))\n",
    "ax = ax.flatten()  # Spłaszczanie tablicy osi dla łatwiejszej iteracji\n",
    "\n",
    "# Iteracja po wszystkich kolumnach i tworzenie histogramów\n",
    "for i, col in enumerate(df_hist.columns):\n",
    "    ax[i].hist(df_hist[col], bins=20, color='orange', alpha=0.7)\n",
    "    ax[i].set(title=col)\n",
    "\n",
    "# Usuwanie pustych subplotów\n",
    "for j in range(i + 1, len(ax)):\n",
    "    fig.delaxes(ax[j])\n",
    "plt.tight_layout()\n",
    "plt.show()"
   ]
  },
  {
   "cell_type": "code",
   "execution_count": null,
   "id": "0e3cfc6a-d39e-4e7a-aa7c-1d944686c0a7",
   "metadata": {},
   "outputs": [],
   "source": [
    "# Tworzymy macierz wykresu za pomocą Seaborn\n",
    "sns.pairplot(df_hist, diag_kind='kde', plot_kws={'color': 'orange'}, diag_kws={'color': 'orange'})\n",
    "plt.show()"
   ]
  },
  {
   "cell_type": "code",
   "execution_count": null,
   "id": "a78be7b2-5934-4ab9-aa7b-e798cc8c4f17",
   "metadata": {},
   "outputs": [],
   "source": [
    "# Dzieli dane na model testowy i treningowy\n",
    "X_train, X_test, y_train, y_test = train_test_split(df.values, target.values, test_size=0.2, random_state=42)"
   ]
  },
  {
   "cell_type": "code",
   "execution_count": null,
   "id": "19901ceb-8bf0-4bd4-b719-0a7e49953c4d",
   "metadata": {},
   "outputs": [],
   "source": [
    "# konwertujemy wartosc na kalse binarną\n",
    "median_rent = target.median()[0]\n",
    "y_train_class = (y_train >= median_rent).astype(int).ravel()\n",
    "y_test_class = (y_test >= median_rent).astype(int).ravel()"
   ]
  },
  {
   "cell_type": "code",
   "execution_count": null,
   "id": "b4b998c4-3b5f-4aa4-bb2b-482289b840bc",
   "metadata": {},
   "outputs": [],
   "source": [
    "# Definiujemy architekturę sieci neuronowej za pomocą elastycznych warstw\n",
    "class WineQualityNN(nn.Module):\n",
    "    def __init__(self, input_dim, hidden_dims, output_dim):\n",
    "        super(WineQualityNN, self).__init__()\n",
    "        layers = []\n",
    "        prev_dim = input_dim\n",
    "        for hidden_dim in hidden_dims:\n",
    "            layers.append(nn.Linear(prev_dim, hidden_dim))\n",
    "            layers.append(nn.ReLU())\n",
    "            prev_dim = hidden_dim\n",
    "        layers.append(nn.Linear(prev_dim, output_dim))\n",
    "        self.model = nn.Sequential(*layers)\n",
    "\n",
    "    def forward(self, x):\n",
    "        return self.model(x)"
   ]
  },
  {
   "cell_type": "code",
   "execution_count": null,
   "id": "324162e3-0a6a-46af-927f-2499760883fb",
   "metadata": {},
   "outputs": [],
   "source": [
    "# Definiujemy wymiary wejściowe i wyjściowe\n",
    "input_dim = X_train.shape[1]\n",
    "output_dim = 2"
   ]
  },
  {
   "cell_type": "code",
   "execution_count": null,
   "id": "7dba6b67-71ca-4e19-bb6d-bf3505531158",
   "metadata": {},
   "outputs": [],
   "source": [
    "# Tworzymy siec neuronową\n",
    "net = NeuralNetClassifier(\n",
    "    module=WineQualityNN,\n",
    "    max_epochs=20,\n",
    "    lr=0.1,\n",
    "    optimizer=optim.Adam,\n",
    "    criterion=nn.CrossEntropyLoss,\n",
    "    iterator_train__shuffle=True,\n",
    "    verbose=0,\n",
    "    module__input_dim=input_dim,\n",
    "    module__output_dim=output_dim\n",
    ")"
   ]
  },
  {
   "cell_type": "code",
   "execution_count": null,
   "id": "19b1941f-2e87-4641-b229-d5a86de59b21",
   "metadata": {},
   "outputs": [],
   "source": [
    "# Podajemy parametry dla GridSearcha\n",
    "params = {\n",
    "    'lr': [0.01,0.2,0.4],\n",
    "    'max_epochs': [10,20,30],\n",
    "    'module__hidden_dims': [\n",
    "        [32],[64],[32,32]\n",
    "    ],\n",
    "    'optimizer__weight_decay': [0, 1e-4, 1e-2]\n",
    "}"
   ]
  },
  {
   "cell_type": "code",
   "execution_count": null,
   "id": "d64f3403-c412-44d6-ac1b-e4ae6032bc53",
   "metadata": {},
   "outputs": [],
   "source": [
    "# Wykonujemy GridSearch\n",
    "gs = GridSearchCV(net, params, refit=True, cv=3, scoring='accuracy')\n",
    "gs.fit(X_train.astype(np.float32), y_train_class)"
   ]
  },
  {
   "cell_type": "code",
   "execution_count": null,
   "id": "4021fb08-9628-453a-ba7b-8e7deb2af1b5",
   "metadata": {},
   "outputs": [],
   "source": [
    "# Sprawdzamy dla jakich parametróww mamy najlepsza walidacje krzyżową\n",
    "print(\"Best parameters found: \", gs.best_params_)\n",
    "print(\"Best cross-validation accuracy: \", gs.best_score_)"
   ]
  },
  {
   "cell_type": "code",
   "execution_count": null,
   "id": "1a3bd3ed-2c6c-42e8-a5e8-7d36ea953af8",
   "metadata": {},
   "outputs": [],
   "source": []
  },
  {
   "cell_type": "code",
   "execution_count": null,
   "id": "ba822e7c-2f1d-4622-8ee2-6682aa0f844d",
   "metadata": {},
   "outputs": [],
   "source": []
  },
  {
   "cell_type": "code",
   "execution_count": null,
   "id": "05c38048-ac7c-4056-947f-dd0f512c5212",
   "metadata": {},
   "outputs": [],
   "source": []
  }
 ],
 "metadata": {
  "kernelspec": {
   "display_name": "Python 3 (ipykernel)",
   "language": "python",
   "name": "python3"
  },
  "language_info": {
   "codemirror_mode": {
    "name": "ipython",
    "version": 3
   },
   "file_extension": ".py",
   "mimetype": "text/x-python",
   "name": "python",
   "nbconvert_exporter": "python",
   "pygments_lexer": "ipython3",
   "version": "3.9.18"
  }
 },
 "nbformat": 4,
 "nbformat_minor": 5
}
